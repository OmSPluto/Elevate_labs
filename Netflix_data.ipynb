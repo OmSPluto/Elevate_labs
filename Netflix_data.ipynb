{
 "cells": [
  {
   "cell_type": "code",
   "execution_count": 1,
   "id": "0f7512e4-8d4e-49e4-8828-23cf5775efc3",
   "metadata": {},
   "outputs": [
    {
     "name": "stdout",
     "output_type": "stream",
     "text": [
      " Step 1: Loaded Excel file\n",
      "  show_id     type                  title         director  \\\n",
      "0      s1    Movie   Dick Johnson Is Dead  Kirsten Johnson   \n",
      "1      s2  TV Show          Blood & Water              NaN   \n",
      "2      s3  TV Show              Ganglands  Julien Leclercq   \n",
      "3      s4  TV Show  Jailbirds New Orleans              NaN   \n",
      "4      s5  TV Show           Kota Factory              NaN   \n",
      "\n",
      "                                                cast        country  \\\n",
      "0                                                NaN  United States   \n",
      "1  Ama Qamata, Khosi Ngema, Gail Mabalane, Thaban...   South Africa   \n",
      "2  Sami Bouajila, Tracy Gotoas, Samuel Jouy, Nabi...            NaN   \n",
      "3                                                NaN            NaN   \n",
      "4  Mayur More, Jitendra Kumar, Ranjan Raj, Alam K...          India   \n",
      "\n",
      "           date_added  release_year rating   duration  \\\n",
      "0  September 25, 2021          2020  PG-13     90 min   \n",
      "1  September 24, 2021          2021  TV-MA  2 Seasons   \n",
      "2  September 24, 2021          2021  TV-MA   1 Season   \n",
      "3  September 24, 2021          2021  TV-MA   1 Season   \n",
      "4  September 24, 2021          2021  TV-MA  2 Seasons   \n",
      "\n",
      "                                           listed_in  \\\n",
      "0                                      Documentaries   \n",
      "1    International TV Shows, TV Dramas, TV Mysteries   \n",
      "2  Crime TV Shows, International TV Shows, TV Act...   \n",
      "3                             Docuseries, Reality TV   \n",
      "4  International TV Shows, Romantic TV Shows, TV ...   \n",
      "\n",
      "                                         description  \n",
      "0  As her father nears the end of his life, filmm...  \n",
      "1  After crossing paths at a party, a Cape Town t...  \n",
      "2  To protect his family from a powerful drug lor...  \n",
      "3  Feuds, flirtations and toilet talk go down amo...  \n",
      "4  In a city of coaching centers known to train I...  \n"
     ]
    }
   ],
   "source": [
    "import pandas as pd\n",
    "import numpy as np\n",
    "\n",
    "# Step 1: Load the Excel file\n",
    "file_path = \"Netflix_data.xlsx\"  # Change if needed\n",
    "df = pd.read_excel(file_path)\n",
    "print(\" Step 1: Loaded Excel file\")\n",
    "print(df.head())"
   ]
  },
  {
   "cell_type": "code",
   "execution_count": 2,
   "id": "84068a4a-9b4c-49f3-bd20-16e62a3f6183",
   "metadata": {},
   "outputs": [
    {
     "name": "stdout",
     "output_type": "stream",
     "text": [
      " Step 2: Cleaned column names\n",
      "['show_id', 'type', 'title', 'director', 'cast', 'country', 'date_added', 'release_year', 'rating', 'duration', 'listed_in', 'description']\n"
     ]
    }
   ],
   "source": [
    "# Step 2: Clean column names\n",
    "df.columns = df.columns.str.strip().str.lower().str.replace(' ', '_').str.replace('[^a-z0-9_]', '', regex=True)\n",
    "print(\" Step 2: Cleaned column names\")\n",
    "print(df.columns.tolist())"
   ]
  },
  {
   "cell_type": "code",
   "execution_count": 3,
   "id": "bac4fb9e-f359-4842-98f5-66b20801fd92",
   "metadata": {},
   "outputs": [
    {
     "name": "stdout",
     "output_type": "stream",
     "text": [
      "\n",
      " Step 3: Handled missing values\n",
      "country    0\n",
      "rating     0\n",
      "dtype: int64\n",
      "\n",
      " Step 4: Removed duplicates\n",
      "Remaining rows: 8807\n"
     ]
    }
   ],
   "source": [
    "# Step 3: Handle missing values\n",
    "df['country'] = df['country'].fillna(\"Unknown\")\n",
    "df['rating'] = df['rating'].fillna(\"UNRATED\")\n",
    "df = df.dropna(subset=['title', 'type'])\n",
    "print(\"\\n Step 3: Handled missing values\")\n",
    "print(df[['country', 'rating']].isnull().sum())\n",
    "\n",
    "# Step 4: Remove duplicates\n",
    "df = df.drop_duplicates()\n",
    "print(\"\\n Step 4: Removed duplicates\")\n",
    "print(f\"Remaining rows: {len(df)}\")"
   ]
  },
  {
   "cell_type": "code",
   "execution_count": 4,
   "id": "f7a3b47e-1704-4344-b490-cd9af7cf36e8",
   "metadata": {},
   "outputs": [
    {
     "name": "stdout",
     "output_type": "stream",
     "text": [
      "\n",
      " Step 5: Standardized text columns\n",
      "      type                 title         director  \\\n",
      "0    movie  dick johnson is dead  kirsten johnson   \n",
      "1  tv show         blood & water              nan   \n",
      "\n",
      "                                                cast        country rating  \\\n",
      "0                                                nan  united states  pg-13   \n",
      "1  ama qamata, khosi ngema, gail mabalane, thaban...   south africa  tv-ma   \n",
      "\n",
      "                                         listed_in  \n",
      "0                                    documentaries  \n",
      "1  international tv shows, tv dramas, tv mysteries  \n",
      "\n",
      " Step 6: Converted 'date_added' to datetime\n",
      "0   2021-09-25\n",
      "1   2021-09-24\n",
      "2   2021-09-24\n",
      "3   2021-09-24\n",
      "4   2021-09-24\n",
      "Name: date_added, dtype: datetime64[ns]\n"
     ]
    }
   ],
   "source": [
    "# Step 5: Standardize text columns\n",
    "text_cols = ['type', 'title', 'director', 'cast', 'country', 'rating', 'listed_in']\n",
    "for col in text_cols:\n",
    "    df[col] = df[col].astype(str).str.strip().str.lower()\n",
    "print(\"\\n Step 5: Standardized text columns\")\n",
    "print(df[text_cols].head(2))\n",
    "\n",
    "# Step 6: Convert and clean date_added\n",
    "df['date_added'] = pd.to_datetime(df['date_added'], errors='coerce')\n",
    "print(\"\\n Step 6: Converted 'date_added' to datetime\")\n",
    "print(df['date_added'].head())\n"
   ]
  },
  {
   "cell_type": "code",
   "execution_count": 5,
   "id": "28ea040c-71c9-43f8-942f-c52fe343f23d",
   "metadata": {},
   "outputs": [
    {
     "name": "stdout",
     "output_type": "stream",
     "text": [
      "\n",
      " Step 7: Extracted year and month\n",
      "  date_added  year_added  month_added\n",
      "0 2021-09-25      2021.0          9.0\n",
      "1 2021-09-24      2021.0          9.0\n",
      "2 2021-09-24      2021.0          9.0\n",
      "3 2021-09-24      2021.0          9.0\n",
      "4 2021-09-24      2021.0          9.0\n",
      "\n",
      " Step 8: Converted 'release_year' to numeric\n",
      "count    8807.000000\n",
      "mean     2014.180198\n",
      "std         8.819312\n",
      "min      1925.000000\n",
      "25%      2013.000000\n",
      "50%      2017.000000\n",
      "75%      2019.000000\n",
      "max      2021.000000\n",
      "Name: release_year, dtype: float64\n"
     ]
    }
   ],
   "source": [
    "# Step 7: Extract year and month from date_added\n",
    "df['year_added'] = df['date_added'].dt.year\n",
    "df['month_added'] = df['date_added'].dt.month\n",
    "print(\"\\n Step 7: Extracted year and month\")\n",
    "print(df[['date_added', 'year_added', 'month_added']].head())\n",
    "\n",
    "# Step 8: Convert release_year to numeric\n",
    "df['release_year'] = pd.to_numeric(df['release_year'], errors='coerce')\n",
    "print(\"\\n Step 8: Converted 'release_year' to numeric\")\n",
    "print(df['release_year'].describe())"
   ]
  },
  {
   "cell_type": "code",
   "execution_count": 6,
   "id": "736fb2df-a2a3-4d6f-a542-b32da7740f91",
   "metadata": {},
   "outputs": [
    {
     "name": "stdout",
     "output_type": "stream",
     "text": [
      "\n",
      " Step 9: Cleaned 'duration' column\n",
      "    duration  duration_num duration_type\n",
      "0     90 min          90.0           min\n",
      "1  2 seasons           2.0       seasons\n",
      "2   1 season           1.0        season\n",
      "3   1 season           1.0        season\n",
      "4  2 seasons           2.0       seasons\n",
      "\n",
      " Step 10: Removed outliers in 'duration_num'\n",
      "count    8802.000000\n",
      "mean       69.796296\n",
      "std        50.708766\n",
      "min         1.000000\n",
      "25%         2.000000\n",
      "50%        88.000000\n",
      "75%       106.000000\n",
      "max       253.000000\n",
      "Name: duration_num, dtype: float64\n"
     ]
    }
   ],
   "source": [
    "# Step 9: Clean duration column\n",
    "df['duration'] = df['duration'].astype(str).str.strip().str.lower()\n",
    "df['duration_num'] = df['duration'].str.extract('(\\d+)').astype(float)\n",
    "df['duration_type'] = df['duration'].str.extract('([a-zA-Z]+)')\n",
    "print(\"\\n Step 9: Cleaned 'duration' column\")\n",
    "print(df[['duration', 'duration_num', 'duration_type']].head())\n",
    "\n",
    "# Step 10: Remove outliers in duration_num\n",
    "q1 = df['duration_num'].quantile(0.25)\n",
    "q3 = df['duration_num'].quantile(0.75)\n",
    "iqr = q3 - q1\n",
    "lower_bound = q1 - 1.5 * iqr\n",
    "upper_bound = q3 + 1.5 * iqr\n",
    "df = df[(df['duration_num'] >= lower_bound) & (df['duration_num'] <= upper_bound)]\n",
    "print(\"\\n Step 10: Removed outliers in 'duration_num'\")\n",
    "print(df['duration_num'].describe())"
   ]
  },
  {
   "cell_type": "code",
   "execution_count": 7,
   "id": "1db1a368-1197-4eef-b8f6-3cc581487171",
   "metadata": {},
   "outputs": [
    {
     "name": "stdout",
     "output_type": "stream",
     "text": [
      "\n",
      " Step 11: Reordered columns\n",
      "['show_id', 'type', 'title', 'director', 'country', 'date_added', 'year_added', 'month_added', 'release_year', 'rating', 'duration', 'duration_num', 'duration_type', 'listed_in', 'description']\n",
      "\n",
      " Step 12: Cleaned file saved as 'cleaned_netflix_data.xlsx'\n"
     ]
    }
   ],
   "source": [
    "# Step 11: Reorder columns\n",
    "desired_cols = ['show_id', 'type', 'title', 'director', 'country', 'date_added', 'year_added',\n",
    "                'month_added', 'release_year', 'rating', 'duration', 'duration_num', 'duration_type',\n",
    "                'listed_in', 'description']\n",
    "df = df[[col for col in desired_cols if col in df.columns]]\n",
    "print(\"\\n Step 11: Reordered columns\")\n",
    "print(df.columns.tolist())\n",
    "\n",
    "# Step 12: Save cleaned data to a new Excel file\n",
    "df.to_excel(\"cleaned_netflix_data.xlsx\", index=False)\n",
    "print(\"\\n Step 12: Cleaned file saved as 'cleaned_netflix_data.xlsx'\")\n"
   ]
  },
  {
   "cell_type": "code",
   "execution_count": null,
   "id": "3c1e5b39-fae4-46d4-802c-4b4594738248",
   "metadata": {},
   "outputs": [],
   "source": []
  }
 ],
 "metadata": {
  "kernelspec": {
   "display_name": "Python 3 (ipykernel)",
   "language": "python",
   "name": "python3"
  },
  "language_info": {
   "codemirror_mode": {
    "name": "ipython",
    "version": 3
   },
   "file_extension": ".py",
   "mimetype": "text/x-python",
   "name": "python",
   "nbconvert_exporter": "python",
   "pygments_lexer": "ipython3",
   "version": "3.11.3"
  },
  "widgets": {
   "application/vnd.jupyter.widget-state+json": {
    "state": {},
    "version_major": 2,
    "version_minor": 0
   }
  }
 },
 "nbformat": 4,
 "nbformat_minor": 5
}
